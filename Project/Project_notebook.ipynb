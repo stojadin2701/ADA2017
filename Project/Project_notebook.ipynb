{
 "cells": [
  {
   "cell_type": "markdown",
   "metadata": {},
   "source": [
    "The first part of this notebook is dealing with the second milestone of the project. If you want to jump straight to Milestone 3, click [here](#m3)."
   ]
  },
  {
   "cell_type": "markdown",
   "metadata": {},
   "source": [
    "# How to make or break a country\n",
    "\n",
    "## Types of border changes\n",
    "\n",
    "Before the start of our analysis we had to spend a significant amount of time exploring the border changes that happened in the period from 1979 until today, because these changes can be recognized from the data included in the *GDELT* dataset.\n",
    "After detailed investigation of the possible reasons for the changes of borders, we found out that there are 5 situations that resulted in the alterations of the territorial integrity:\n",
    "\n",
    " * the decomposition of large socialist/communist countries – Most countries in the period of the last (almost) 40 years were created after the dissolution of two large socialist countries – Soviet Union and Yugoslavia.\n",
    " * the last steps of decolonization – Although most of the colonies gained internationally recognized sovereignty in the end of the 19th century and the beginning of 20th century, some smaller countries in the Carribean got separated from the UK in the 1980s and some islands in Oceania gained their right for free association in the 1990s.\n",
    " * the separation after political or military conflict – Some countries faced the need for border changes as a result of political or military changes (for example Namibia). Some countries underwent the invasion of foreign forces that both started and ended in the time period we are observing, so they can also be included in this group as they could give different perspective to the problem we are analyzing. The example of occupation of Kuwait carried out by Iraqi forces in the 1990 is one of the representatives of this type.\n",
    " * the breakaway states – Contrary to the aforementioned types, some countries/areas have declared their independence, but the international public is not recognizing their proclamations as valid, even though some of them have functioned as the de facto independent or autonomous parts of other countries for over 30 years. One of the examples of this type is the Northern Cyprus area (officially the Turkish Republic of Northern Cyprus) which has proclaimed its independence in the 1983, but has since only been recognized by Turkey.\n",
    " * the unifications – Since our research will be focused toward all of the border changes that happened in the past 40 years, we decided that, although this type is a much rarer occurrence than the others, we should analyze the examples of the unification of  e.g. East and West Germany and North and South Yemen in the 1990s.\n",
    " \n",
    "The main idea in the rest of the analysis will be to process all of the border changes together in order to check if all of them show some similar events that precede the changes, but then again in the later phases have some very different aspects according to the type of their change. In the end of the analysis, the question of currently on-going cases like Catalonia shall be analyzed to see if they show any compliance with the observed types.\n"
   ]
  },
  {
   "cell_type": "markdown",
   "metadata": {},
   "source": [
    "## The observed countries\n",
    "\n",
    "In order to decide which countries to use in our analysis we had to extract all of the countries that gained their sovereignty in the period that is covered in the GDELT dataset.\n",
    "\n",
    "Firstly, we tried to create a list from all of the countries that became a part of the United Nations in the period of 1979-2017 from the [list of the member states of the United Nations](https://en.wikipedia.org/wiki/Member_states_of_the_United_Nations). Unfortunately, we couldn’t just extract the countries by date because there are some countries that existed for more than a century before officially becoming a member of the United Nations (e.g. Switzerland :)).\n",
    "\n",
    "Instead we analyzed the dates presented in the tables of the [list of sovereign states by dates of formation](https://en.wikipedia.org/wiki/List_of_sovereign_states_by_date_of_formation), and kept the countries “created” in the required period. For each of the newly created countries we also collected the data about the previous states they were a part of, or from which they were unified. This part was mostly done by hand because we didn’t find any dataset that contains the information solely about the countries we are focusing on and usually they don’t contain any data about the predecessor countries. Also, the dates in the *Wikipedia* tables we used are spread across several columns and need human interpretation in order to be correctly extracted.\n",
    "\n",
    "Even though we listed the new countries we will examine, our problems were not solved yet. There was still the fact that the extracted list does not include any of the breakaway countries, since they are mostly not internationally recognized nor sovereign. We had to obtain these regions by analyzing the [list of breakaway states](https://en.wikipedia.org/wiki/Constituent_state#Breakaway_states) and than add to our list those that were created after 1979.\n",
    "\n",
    "When we created the list of all of the countries/regions that we will use in our research, we had to find more details about their history and origins in order to make sure which type or types of border changes have they faced in the observed period.\n",
    "\n",
    "## The types of border changes in the observed countries\n",
    "\n",
    "The biggest change of borders caused by a single event in our analysis will definitely be the dissolution of the [Soviet Union](https://en.wikipedia.org/wiki/Soviet_Union). In the period from March 1990 to the December of 1991, 15 new countries were created from the former Soviet Union and these are:\n",
    " * Russia – the official successor state,\n",
    " * Armenia,\n",
    " * Azerbaijan,\n",
    " * Georgia,\n",
    " * Kazakhstan,\n",
    " * Kyrgyzstan,\n",
    " * Tajikistan,\n",
    " * Turkmenistan,\n",
    " * Uzbekistan,\n",
    " * Belarus,\n",
    " * Estonia,\n",
    " * Latvia,\n",
    " * Lithuania,\n",
    " * Moldova,\n",
    " * Ukraine.\n",
    " \n",
    "All of these countries can be classified as the results of the first type of border changes we mentioned – the decomposition of large socialist/communist countries.\n",
    "\n",
    "The listed 15 countries do not mark not the end of the decomposition, because in the following years 5 more breakaway states proclaimed their independence (with limited international recognition) on the territories of the former Soviet Union:\n",
    " * [Artsakh](https://en.wikipedia.org/wiki/Republic_of_Artsakh) (previously known as Nagorno-Karabakh) – area internationally recognized as a part of Azerbaijan, declared independence in 1991 and functions as the de facto part of Armenia,\n",
    " * [Abkhazia](https://en.wikipedia.org/wiki/Abkhazia) – area internationally recognized as a part of Georgia, gained de facto independence in 1993, but is considered to be a Russian-occupied territory by the Georgian government,\n",
    " * [South Ossetia](https://en.wikipedia.org/wiki/South_Ossetia) – area that declared independence from Georgia in 1991, to this day is under de facto control of Ossetian and Russian forces, so a significant part of the international community considers it to be occupied by Russia, but is not recognized as a country nor administrative area by the Georgian government,\n",
    " * [Transnistria](https://en.wikipedia.org/wiki/Transnistria) – area internationally considered to be a part of Moldova, gained de facto independence in 1990, but is mostly populated by Russian people,\n",
    " * [Chechen Republic of Ichkeria](https://en.wikipedia.org/wiki/Chechen_Republic_of_Ichkeria) (also known as [Chechnya](https://en.wikipedia.org/wiki/Chechnya)) – gained de facto independence in 1996, but was returned under the rule of Russia in 2000.\n",
    "\n",
    "These regions are considered to be the breakaway states.\n",
    "\n",
    "Many countries of interest for our research originated from other large socialist country – [Yugoslavia](https://en.wikipedia.org/wiki/Yugoslavia). There are 6 states that were created after the dissolution of Yugoslavia that started in 1991:\n",
    " * Serbia – the official successor state (part of [Serbia and Montenegro](https://en.wikipedia.org/wiki/Serbia_and_Montenegro) until 2006),\n",
    " * Montenegro (part of [Serbia and Montenegro](https://en.wikipedia.org/wiki/Serbia_and_Montenegro) until 2006),\n",
    " * Croatia,\n",
    " * Bosnia and Herzegovina,\n",
    " * Slovenia,\n",
    " * Macedonia (formally associated as the former Yugoslav Republic of Macedonia).\n",
    "\n",
    "All of the mentioned countries can again be associated with the border change type mentioned as the decomposition of large socialist/communist countries.\n",
    "\n",
    "Additionally, in 2008 [Kosovo](https://en.wikipedia.org/wiki/Kosovo) unilaterally declared its independence from Serbia and gained partial diplomatic recognition as a sovereign state. This change is not recognized by Serbian government and this region will be considered a breakaway state in our analysis.\n",
    "\n",
    "The last European socialist country that had a change of borders was [Czechoslovakia](https://en.wikipedia.org/wiki/Czechoslovakia) which got separated into Czech Republic and Slovakia in 1993. Because of that fact, both of these countries shall be observed like they belong to the type mentioned as the decomposition of large socialist/communist countries.\n",
    "\n",
    "There is a number of Caribbean countries that gained their independence from the United Kingdom in the period from 1979 to 1983. Although these countries did remain a part of the [Commonwealth of Nations](https://en.wikipedia.org/wiki/Commonwealth_of_Nations) this period did mark the beginning of their internationally recognized sovereignty so it should be considered as a change of borders. All of these countries will be considered as they belong to the last steps of decolonization:\n",
    " * Antigua and Barbuda,\n",
    " * Belize,\n",
    " * Saint Kitts and Nevis,\n",
    " * Saint Lucia,\n",
    " * Saint Vincent and the Grenadine.\n",
    "\n",
    "In the same group we can add the countries in Oceania Kiribati (gained independence from the United Kingdom in 1979) and Vanuatu (which gained independence in 1980 from United Kingdom and France). Brunei, a country in Southeast Asia, should also be classified in the last steps of decolonization group since it regained independence from United Kingdom in 1984. There is also Zimbabwe – an African country that declared unilateral independence from United Kingdom in 1965 under the name Rhodesia, but was officially granted sovereignty as Zimbabwe in 1980, which will be a part of our research in the same group.\n",
    "\n",
    "The last countries that belong in the last steps of decolonization type of border changes are Marshall Islands, Federated States of Micronesia and Palau which became independent from USA by the [Compact of Free Association]( https://en.wikipedia.org/wiki/Compact_of_Free_Association) during the period from 1986 to 1994.\n",
    "\n",
    "In the group that contains the countries which separated after political or military conflict, we added three countries from Africa: Eritrea (gained independence from Ethiopia in 1993), Namibia (gained independence from South Africa in 1990) and South Sudan (gained the independence most recently, from Sudan in 2011).\n",
    "\n",
    "The Asian country Cambodia was occupied by Vietnamese troops from 1978 until 1991 when it regained independence as a result of the [Paris Comprehensive Peace Settlement](https://en.wikipedia.org/wiki/1991_Paris_Peace_Accords). Similarly, in 1990 Iraqi forces invaded and annexed Kuwait, but it regained sovereignty in 1991 after a military intervention. Both of these cases will be classified as the type of countries whose borders changed after political or military conflict.\n",
    "\n",
    "Timor-Leste (known also as [East Timor](https://en.wikipedia.org/wiki/East_Timor)) first gained its very short-lived independence in 1975, but was invaded by Indonesia only 9 days later. This occupation lasted until 2002 when it became the first sovereign state od 21st century. Since that change of borders marked the end of an occupation, this case is also considered to be in the group of separations after political or military conflict.\n",
    "\n",
    "There are also a few more breakaway states that we discovered during our research and which should be included in the later analysis. First one is Northern Cyprus ([Turkish Republic of Northern Cyprus](https://en.wikipedia.org/wiki/Northern_Cyprus)) which made the unilateral declaration of independence from Cyprus in 1983 but is still almost completely internationally unrecognized. There is also Palestine ([State of Palestine](https://en.wikipedia.org/wiki/State_of_Palestine)) which first declared independence in 1988 and has since gained partial international recognition, but still has a sovereignty dispute with Israel. We also investigated the example of Somaliland ([Republic of Somaliland](https://en.wikipedia.org/wiki/Somaliland)), a region internationally recognized as a part of Somalia which declared unilateral independence in 1991.\n",
    "\n",
    "We discovered that Senegambia([Senegambia Confederation](https://en.wikipedia.org/wiki/Senegambia_Confederation)) was created by unification of Gambia and Senegal in 1982 in the West Africa. But this confederation only lasted until 1989 when two countries separated again. This example will be analyzed for both unification and separation after political or military conflict, for the periods that correspond to the different territorial organization the country had.\n",
    "\n",
    "The most significant unification in the observed period is by far the reunification of East Germany ([German Democratic Republic](https://en.wikipedia.org/wiki/East_Germany)) and West Germany ([Federal Republic of Germany](https://en.wikipedia.org/wiki/West_Germany)) in 1990. The other example of unification is Yemen, which united [North Yemen](https://en.wikipedia.org/wiki/North_Yemen) and [South Yemen](https://en.wikipedia.org/wiki/South_Yemen) in 1990.\n",
    "\n",
    "The case of Crimea (or [Republic of Crimea]( https://en.wikipedia.org/wiki/Republic_of_Crimea)) is specific, since Crimean legislature has declared conditional independence from Ukraine in 1992, but a referendum to confirm the decision was never held. Then in March 2014, the region organized an internationally disputed referendum where the majority voted in favor of independence of Crimea from Ukraine and joining Russia as a federal subject. Therefore, later during the same month newly unilaterally independent Republic of Crimea signed a treaty of accession to the Russian Federation. This is again an example of breakaway state since most of the international public nor Ukraine don’t formally recognize the changes of the borders, but it is also an example of unification of the Republic of Crimea with Russian Federation. \n",
    "\n",
    "We decided not to involve past or current from the [United Nations list of Non-Self-Governing Territories](https://en.wikipedia.org/wiki/United_Nations_list_of_Non-Self-Governing_Territories) in our analysis because of their special status and low number of citizens (while the lack of their codes in most of the world region and ethnic mappings was also a factor that disables their analysis).\n",
    "\n",
    "## Regions with potential border changes\n",
    "\n",
    "The regions that we will analyze in order to see if they show any similarities to the events that preceded previously observed types of border changes are the ones that already showed some internationally noticeable tendencies toward independence or unification. These are the regions of [Catalonia](https://en.wikipedia.org/wiki/Catalonia), [Donetsk](https://en.wikipedia.org/wiki/Donetsk), [Luhansk](https://en.wikipedia.org/wiki/Luhansk) and [Scotland](https://en.wikipedia.org/wiki/Scotland). Their circumstances will be explained in more detail in the later steps of the analysis."
   ]
  },
  {
   "cell_type": "code",
   "execution_count": 1,
   "metadata": {
    "collapsed": true
   },
   "outputs": [],
   "source": [
    "import pandas as pd\n",
    "import matplotlib.pyplot as plt\n",
    "import seaborn as sns\n",
    "pd.set_option('display.max_columns', 60)\n",
    "pd.set_option('display.max_rows', 600)\n",
    "\n",
    "#plotting params\n",
    "%matplotlib inline\n",
    "sns.set_style('darkgrid')\n",
    "plt.rcParams['axes.labelsize'] = 14\n",
    "plt.rcParams['axes.titlesize'] = 18\n",
    "plt.rcParams['font.size'] = 12\n",
    "plt.rcParams['figure.figsize'] = [16, 8]\n",
    "plt.rcParams['axes.edgecolor'] = '0.15'\n",
    "plt.rcParams['axes.linewidth']  = 1.25"
   ]
  },
  {
   "cell_type": "code",
   "execution_count": 2,
   "metadata": {
    "collapsed": true
   },
   "outputs": [],
   "source": [
    "#limit ourselves to a subset of data for initial event analysis\n",
    "observed_years = [1990, 1991]"
   ]
  },
  {
   "cell_type": "markdown",
   "metadata": {},
   "source": [
    "The information that we used to get the \"creation date\" of a country are the [*Gleditsch and Ward* lists of independent states and micronations](http://privatewww.essex.ac.uk/~ksg/statelist.html). We chose to use this dataset because it matches well with our previous textual analysis and *Gleditsch and Ward* country codes are included in the UCDP dataset.\n",
    "\n",
    "We wrote a function *read_gw()* which reads our country information from the specified url with the correct encoding and names the columns appropriately."
   ]
  },
  {
   "cell_type": "code",
   "execution_count": 3,
   "metadata": {
    "collapsed": true
   },
   "outputs": [],
   "source": [
    "#function for loading Gleditsch-Ward country codes from a specified url\n",
    "def read_gw(url):\n",
    "    return pd.read_csv(url, sep='\\t', encoding = 'ISO-8859-1', header = None, \n",
    "                       names = ['gw_code', 'abbreviation', 'country_name', 'beginning', 'end'])"
   ]
  },
  {
   "cell_type": "markdown",
   "metadata": {},
   "source": [
    "We wanted to download the list of independent states as well as the \"tentative\" list of micronations, some of which are important for our analysis such as Abkhazia, South Ossetia, Palau, Federated States of Micronesia, all of which declared independence after 1979."
   ]
  },
  {
   "cell_type": "code",
   "execution_count": 4,
   "metadata": {},
   "outputs": [
    {
     "data": {
      "text/html": [
       "<div>\n",
       "<style>\n",
       "    .dataframe thead tr:only-child th {\n",
       "        text-align: right;\n",
       "    }\n",
       "\n",
       "    .dataframe thead th {\n",
       "        text-align: left;\n",
       "    }\n",
       "\n",
       "    .dataframe tbody tr th {\n",
       "        vertical-align: top;\n",
       "    }\n",
       "</style>\n",
       "<table border=\"1\" class=\"dataframe\">\n",
       "  <thead>\n",
       "    <tr style=\"text-align: right;\">\n",
       "      <th></th>\n",
       "      <th>gw_code</th>\n",
       "      <th>abbreviation</th>\n",
       "      <th>country_name</th>\n",
       "      <th>beginning</th>\n",
       "      <th>end</th>\n",
       "    </tr>\n",
       "  </thead>\n",
       "  <tbody>\n",
       "    <tr>\n",
       "      <th>0</th>\n",
       "      <td>2</td>\n",
       "      <td>USA</td>\n",
       "      <td>United States of America</td>\n",
       "      <td>01:01:1816</td>\n",
       "      <td>31:12:2012</td>\n",
       "    </tr>\n",
       "    <tr>\n",
       "      <th>1</th>\n",
       "      <td>20</td>\n",
       "      <td>CAN</td>\n",
       "      <td>Canada</td>\n",
       "      <td>01:07:1867</td>\n",
       "      <td>31:12:2012</td>\n",
       "    </tr>\n",
       "    <tr>\n",
       "      <th>2</th>\n",
       "      <td>31</td>\n",
       "      <td>BHM</td>\n",
       "      <td>Bahamas</td>\n",
       "      <td>10:07:1973</td>\n",
       "      <td>31:12:2012</td>\n",
       "    </tr>\n",
       "    <tr>\n",
       "      <th>3</th>\n",
       "      <td>40</td>\n",
       "      <td>CUB</td>\n",
       "      <td>Cuba</td>\n",
       "      <td>20:05:1902</td>\n",
       "      <td>31:12:2012</td>\n",
       "    </tr>\n",
       "    <tr>\n",
       "      <th>4</th>\n",
       "      <td>41</td>\n",
       "      <td>HAI</td>\n",
       "      <td>Haiti</td>\n",
       "      <td>01:01:1816</td>\n",
       "      <td>04:07:1915</td>\n",
       "    </tr>\n",
       "    <tr>\n",
       "      <th>5</th>\n",
       "      <td>41</td>\n",
       "      <td>HAI</td>\n",
       "      <td>Haiti</td>\n",
       "      <td>15:08:1934</td>\n",
       "      <td>31:12:2012</td>\n",
       "    </tr>\n",
       "  </tbody>\n",
       "</table>\n",
       "</div>"
      ],
      "text/plain": [
       "   gw_code abbreviation              country_name   beginning         end\n",
       "0        2          USA  United States of America  01:01:1816  31:12:2012\n",
       "1       20          CAN                    Canada  01:07:1867  31:12:2012\n",
       "2       31          BHM                   Bahamas  10:07:1973  31:12:2012\n",
       "3       40          CUB                      Cuba  20:05:1902  31:12:2012\n",
       "4       41          HAI                     Haiti  01:01:1816  04:07:1915\n",
       "5       41          HAI                     Haiti  15:08:1934  31:12:2012"
      ]
     },
     "execution_count": 4,
     "metadata": {},
     "output_type": "execute_result"
    }
   ],
   "source": [
    "gw_codes = read_gw('http://privatewww.essex.ac.uk/~ksg/data/iisystem.dat')\n",
    "gw_micro = read_gw('http://privatewww.essex.ac.uk/~ksg/data/microstatessystem.dat')\n",
    "country_codes = gw_codes.append(gw_micro, ignore_index = True)\n",
    "country_codes.head(6)"
   ]
  },
  {
   "cell_type": "markdown",
   "metadata": {},
   "source": [
    "We can see that the column *gw_code* can have same values for two entries (like Haiti above). Also, we have the *abbreviation* of the country (that, unfortunately, is not according to [ISO-3166 standard](https://www.iso.org/iso-3166-country-codes.html) which is the 3-letter country code that GDELT uses), the full name of the country and its \"beginning\" and \"end\".\n",
    "\n",
    "We can also observe that this is a historical list of countries that existed from 1st of January 1816 until 31st of December 2012.\n",
    "\n",
    "We also needed to convert the \"beginning\" and \"end\" of countries to an appropriate date format."
   ]
  },
  {
   "cell_type": "code",
   "execution_count": 5,
   "metadata": {
    "collapsed": true
   },
   "outputs": [],
   "source": [
    "#convert columns to the right date format\n",
    "country_codes['beginning'] = pd.to_datetime(country_codes['beginning'], format='%d:%m:%Y')\n",
    "country_codes['end'] = pd.to_datetime(country_codes['end'], format='%d:%m:%Y')"
   ]
  },
  {
   "cell_type": "markdown",
   "metadata": {
    "collapsed": true
   },
   "source": [
    "As mentioned before, the 3-letter country abbreviations in the *Gleditsch and Ward* country list do not match the 3-letter ActorXCountryCode in the *GDELT* dataset, so we had to add another column, *alias*, where we put the codes of countries we need to observe.\n",
    "\n",
    "Also, while looking at the dataset, we noticed that there were some inconcistencies within the *GDELT* dataset itself. For example, page 102, chapter 3.2.1 of the [CAMEO codes manual](http://data.gdeltproject.org/documentation/CAMEO.Manual.1.1b3.pdf) gives an example of how country codes for Serbia changed over time. It specifies that Serbia had the code YUGSRB before 1992, FRYSRB between 1992 and 2003 and SCGSRB from 2003 until 2006. However, while examining the dataset, we noticed that the code SCGSRB is used to refer to Serbia in 1979!"
   ]
  },
  {
   "cell_type": "code",
   "execution_count": 6,
   "metadata": {},
   "outputs": [
    {
     "data": {
      "text/html": [
       "<div>\n",
       "<style>\n",
       "    .dataframe thead tr:only-child th {\n",
       "        text-align: right;\n",
       "    }\n",
       "\n",
       "    .dataframe thead th {\n",
       "        text-align: left;\n",
       "    }\n",
       "\n",
       "    .dataframe tbody tr th {\n",
       "        vertical-align: top;\n",
       "    }\n",
       "</style>\n",
       "<table border=\"1\" class=\"dataframe\">\n",
       "  <thead>\n",
       "    <tr style=\"text-align: right;\">\n",
       "      <th></th>\n",
       "      <th>gw_code</th>\n",
       "      <th>abbreviation</th>\n",
       "      <th>country_name</th>\n",
       "      <th>beginning</th>\n",
       "      <th>end</th>\n",
       "      <th>alias</th>\n",
       "    </tr>\n",
       "  </thead>\n",
       "  <tbody>\n",
       "    <tr>\n",
       "      <th>234</th>\n",
       "      <td>973</td>\n",
       "      <td>TUV</td>\n",
       "      <td>Tuvalu</td>\n",
       "      <td>1978-10-01</td>\n",
       "      <td>2012-12-31</td>\n",
       "      <td>None</td>\n",
       "    </tr>\n",
       "    <tr>\n",
       "      <th>235</th>\n",
       "      <td>983</td>\n",
       "      <td>MSI</td>\n",
       "      <td>Marshall Islands</td>\n",
       "      <td>1986-10-21</td>\n",
       "      <td>2012-12-31</td>\n",
       "      <td>None</td>\n",
       "    </tr>\n",
       "    <tr>\n",
       "      <th>236</th>\n",
       "      <td>986</td>\n",
       "      <td>PAL</td>\n",
       "      <td>Palau</td>\n",
       "      <td>1994-10-01</td>\n",
       "      <td>2012-12-31</td>\n",
       "      <td>PLW</td>\n",
       "    </tr>\n",
       "    <tr>\n",
       "      <th>237</th>\n",
       "      <td>987</td>\n",
       "      <td>FSM</td>\n",
       "      <td>Federated States of Micronesia</td>\n",
       "      <td>1986-11-03</td>\n",
       "      <td>2012-12-31</td>\n",
       "      <td>None</td>\n",
       "    </tr>\n",
       "    <tr>\n",
       "      <th>238</th>\n",
       "      <td>990</td>\n",
       "      <td>WSM</td>\n",
       "      <td>Samoa/Western Samoa</td>\n",
       "      <td>1962-01-01</td>\n",
       "      <td>2012-12-31</td>\n",
       "      <td>None</td>\n",
       "    </tr>\n",
       "  </tbody>\n",
       "</table>\n",
       "</div>"
      ],
      "text/plain": [
       "     gw_code abbreviation                    country_name  beginning  \\\n",
       "234      973          TUV                          Tuvalu 1978-10-01   \n",
       "235      983          MSI                Marshall Islands 1986-10-21   \n",
       "236      986          PAL                           Palau 1994-10-01   \n",
       "237      987          FSM  Federated States of Micronesia 1986-11-03   \n",
       "238      990          WSM             Samoa/Western Samoa 1962-01-01   \n",
       "\n",
       "           end alias  \n",
       "234 2012-12-31  None  \n",
       "235 2012-12-31  None  \n",
       "236 2012-12-31   PLW  \n",
       "237 2012-12-31  None  \n",
       "238 2012-12-31  None  "
      ]
     },
     "execution_count": 6,
     "metadata": {},
     "output_type": "execute_result"
    }
   ],
   "source": [
    "#dictionary of country codes and its aliases, will be completed and read from a file in the next milestone\n",
    "country_alias = {\n",
    "    #new countries\n",
    "    'MLD': 'MDA',\n",
    "    'KYR': 'KGZ',\n",
    "    'LAT': 'LVA',\n",
    "    'LIT': 'LTU',\n",
    "    'GRG': 'GEO',\n",
    "    'TAJ': 'TJK',\n",
    "    'MAC': 'MKD|YUGMCD',\n",
    "    'KZK': 'KAZ',\n",
    "    'BOS': 'BIH|YUGBSN',\n",
    "    'SLV': 'SVN|YUGSLN',\n",
    "    'CRO': 'HRV|YUGCTA',\n",
    "    'CZR': 'CZE',\n",
    "    'SLO': 'SVK',\n",
    "    'PAL': 'PLW',\n",
    "    'ETM': 'TMP',\n",
    "    'MNG': 'MTN',\n",
    "    'SER': 'SRB',\n",
    "    'KOS': 'SCGKOS|YUGKOS',\n",
    "    'SOT': 'oss',\n",
    "    'ABK': 'abk',\n",
    "    #old countries\n",
    "    'SAF': 'ZAF',\n",
    "    'UKG': 'GBR',\n",
    "    'SUD': 'SDN',\n",
    "    'INS': 'IDN',\n",
    "    'RUS': 'USR',\n",
    "    'YUG': 'SCG',\n",
    "    'CZE': 'CZA',\n",
    "    'GRG': 'GEO'\n",
    "}\n",
    "\n",
    "#create an empty column\n",
    "country_codes['alias'] = None\n",
    "#fill the column values for the observed countries\n",
    "for key in country_alias.keys():\n",
    "    country_codes.loc[country_codes['abbreviation'] == key, 'alias'] = country_alias[key]\n",
    "\n",
    "country_codes.tail()"
   ]
  },
  {
   "cell_type": "markdown",
   "metadata": {
    "collapsed": true
   },
   "source": [
    "Afterwards, for the initial analysis of a subset of data for Milestone 2, we restricted ourselves to the countries that were created after the 1st of January 1990 and sorted them by their formation date. "
   ]
  },
  {
   "cell_type": "code",
   "execution_count": 7,
   "metadata": {},
   "outputs": [
    {
     "data": {
      "text/html": [
       "<div>\n",
       "<style>\n",
       "    .dataframe thead tr:only-child th {\n",
       "        text-align: right;\n",
       "    }\n",
       "\n",
       "    .dataframe thead th {\n",
       "        text-align: left;\n",
       "    }\n",
       "\n",
       "    .dataframe tbody tr th {\n",
       "        vertical-align: top;\n",
       "    }\n",
       "</style>\n",
       "<table border=\"1\" class=\"dataframe\">\n",
       "  <thead>\n",
       "    <tr style=\"text-align: right;\">\n",
       "      <th></th>\n",
       "      <th>gw_code</th>\n",
       "      <th>abbreviation</th>\n",
       "      <th>country_name</th>\n",
       "      <th>beginning</th>\n",
       "      <th>end</th>\n",
       "      <th>alias</th>\n",
       "    </tr>\n",
       "  </thead>\n",
       "  <tbody>\n",
       "    <tr>\n",
       "      <th>140</th>\n",
       "      <td>565</td>\n",
       "      <td>NAM</td>\n",
       "      <td>Namibia</td>\n",
       "      <td>1990-03-21</td>\n",
       "      <td>2012-12-31</td>\n",
       "      <td>None</td>\n",
       "    </tr>\n",
       "    <tr>\n",
       "      <th>90</th>\n",
       "      <td>370</td>\n",
       "      <td>BLR</td>\n",
       "      <td>Belarus (Byelorussia)</td>\n",
       "      <td>1991-08-25</td>\n",
       "      <td>2012-12-31</td>\n",
       "      <td>None</td>\n",
       "    </tr>\n",
       "    <tr>\n",
       "      <th>80</th>\n",
       "      <td>359</td>\n",
       "      <td>MLD</td>\n",
       "      <td>Moldova</td>\n",
       "      <td>1991-08-27</td>\n",
       "      <td>2012-12-31</td>\n",
       "      <td>MDA</td>\n",
       "    </tr>\n",
       "    <tr>\n",
       "      <th>179</th>\n",
       "      <td>703</td>\n",
       "      <td>KYR</td>\n",
       "      <td>Kyrgyz Republic</td>\n",
       "      <td>1991-08-31</td>\n",
       "      <td>2012-12-31</td>\n",
       "      <td>KGZ</td>\n",
       "    </tr>\n",
       "    <tr>\n",
       "      <th>180</th>\n",
       "      <td>704</td>\n",
       "      <td>UZB</td>\n",
       "      <td>Uzbekistan</td>\n",
       "      <td>1991-08-31</td>\n",
       "      <td>2012-12-31</td>\n",
       "      <td>None</td>\n",
       "    </tr>\n",
       "    <tr>\n",
       "      <th>86</th>\n",
       "      <td>367</td>\n",
       "      <td>LAT</td>\n",
       "      <td>Latvia</td>\n",
       "      <td>1991-09-06</td>\n",
       "      <td>2012-12-31</td>\n",
       "      <td>LVA</td>\n",
       "    </tr>\n",
       "    <tr>\n",
       "      <th>88</th>\n",
       "      <td>368</td>\n",
       "      <td>LIT</td>\n",
       "      <td>Lithuania</td>\n",
       "      <td>1991-09-06</td>\n",
       "      <td>2012-12-31</td>\n",
       "      <td>LTU</td>\n",
       "    </tr>\n",
       "    <tr>\n",
       "      <th>92</th>\n",
       "      <td>372</td>\n",
       "      <td>GRG</td>\n",
       "      <td>Georgia</td>\n",
       "      <td>1991-09-06</td>\n",
       "      <td>2012-12-31</td>\n",
       "      <td>GEO</td>\n",
       "    </tr>\n",
       "    <tr>\n",
       "      <th>84</th>\n",
       "      <td>366</td>\n",
       "      <td>EST</td>\n",
       "      <td>Estonia</td>\n",
       "      <td>1991-09-06</td>\n",
       "      <td>2012-12-31</td>\n",
       "      <td>None</td>\n",
       "    </tr>\n",
       "    <tr>\n",
       "      <th>178</th>\n",
       "      <td>702</td>\n",
       "      <td>TAJ</td>\n",
       "      <td>Tajikistan</td>\n",
       "      <td>1991-09-09</td>\n",
       "      <td>2012-12-31</td>\n",
       "      <td>TJK</td>\n",
       "    </tr>\n",
       "    <tr>\n",
       "      <th>177</th>\n",
       "      <td>701</td>\n",
       "      <td>TKM</td>\n",
       "      <td>Turkmenistan</td>\n",
       "      <td>1991-10-27</td>\n",
       "      <td>2012-12-31</td>\n",
       "      <td>None</td>\n",
       "    </tr>\n",
       "    <tr>\n",
       "      <th>69</th>\n",
       "      <td>343</td>\n",
       "      <td>MAC</td>\n",
       "      <td>Macedonia (Former Yugoslav Republic of)</td>\n",
       "      <td>1991-11-20</td>\n",
       "      <td>2012-12-31</td>\n",
       "      <td>MKD|YUGMCD</td>\n",
       "    </tr>\n",
       "    <tr>\n",
       "      <th>89</th>\n",
       "      <td>369</td>\n",
       "      <td>UKR</td>\n",
       "      <td>Ukraine</td>\n",
       "      <td>1991-12-01</td>\n",
       "      <td>2012-12-31</td>\n",
       "      <td>None</td>\n",
       "    </tr>\n",
       "    <tr>\n",
       "      <th>181</th>\n",
       "      <td>705</td>\n",
       "      <td>KZK</td>\n",
       "      <td>Kazakhstan</td>\n",
       "      <td>1991-12-16</td>\n",
       "      <td>2012-12-31</td>\n",
       "      <td>KAZ</td>\n",
       "    </tr>\n",
       "    <tr>\n",
       "      <th>93</th>\n",
       "      <td>373</td>\n",
       "      <td>AZE</td>\n",
       "      <td>Azerbaijan</td>\n",
       "      <td>1991-12-21</td>\n",
       "      <td>2012-12-31</td>\n",
       "      <td>None</td>\n",
       "    </tr>\n",
       "    <tr>\n",
       "      <th>91</th>\n",
       "      <td>371</td>\n",
       "      <td>ARM</td>\n",
       "      <td>Armenia</td>\n",
       "      <td>1991-12-21</td>\n",
       "      <td>2012-12-31</td>\n",
       "      <td>None</td>\n",
       "    </tr>\n",
       "    <tr>\n",
       "      <th>74</th>\n",
       "      <td>346</td>\n",
       "      <td>BOS</td>\n",
       "      <td>Bosnia-Herzegovina</td>\n",
       "      <td>1992-04-27</td>\n",
       "      <td>2012-12-31</td>\n",
       "      <td>BIH|YUGBSN</td>\n",
       "    </tr>\n",
       "    <tr>\n",
       "      <th>76</th>\n",
       "      <td>349</td>\n",
       "      <td>SLV</td>\n",
       "      <td>Slovenia</td>\n",
       "      <td>1992-04-27</td>\n",
       "      <td>2012-12-31</td>\n",
       "      <td>SVN|YUGSLN</td>\n",
       "    </tr>\n",
       "    <tr>\n",
       "      <th>70</th>\n",
       "      <td>344</td>\n",
       "      <td>CRO</td>\n",
       "      <td>Croatia</td>\n",
       "      <td>1992-04-27</td>\n",
       "      <td>2012-12-31</td>\n",
       "      <td>HRV|YUGCTA</td>\n",
       "    </tr>\n",
       "    <tr>\n",
       "      <th>57</th>\n",
       "      <td>316</td>\n",
       "      <td>CZR</td>\n",
       "      <td>Czech Republic</td>\n",
       "      <td>1993-01-01</td>\n",
       "      <td>2012-12-31</td>\n",
       "      <td>CZE</td>\n",
       "    </tr>\n",
       "    <tr>\n",
       "      <th>58</th>\n",
       "      <td>317</td>\n",
       "      <td>SLO</td>\n",
       "      <td>Slovakia</td>\n",
       "      <td>1993-01-01</td>\n",
       "      <td>2012-12-31</td>\n",
       "      <td>SVK</td>\n",
       "    </tr>\n",
       "    <tr>\n",
       "      <th>131</th>\n",
       "      <td>531</td>\n",
       "      <td>ERI</td>\n",
       "      <td>Eritrea</td>\n",
       "      <td>1993-05-24</td>\n",
       "      <td>2012-12-31</td>\n",
       "      <td>None</td>\n",
       "    </tr>\n",
       "    <tr>\n",
       "      <th>236</th>\n",
       "      <td>986</td>\n",
       "      <td>PAL</td>\n",
       "      <td>Palau</td>\n",
       "      <td>1994-10-01</td>\n",
       "      <td>2012-12-31</td>\n",
       "      <td>PLW</td>\n",
       "    </tr>\n",
       "    <tr>\n",
       "      <th>210</th>\n",
       "      <td>860</td>\n",
       "      <td>ETM</td>\n",
       "      <td>East Timor</td>\n",
       "      <td>2002-05-20</td>\n",
       "      <td>2012-12-31</td>\n",
       "      <td>TMP</td>\n",
       "    </tr>\n",
       "    <tr>\n",
       "      <th>68</th>\n",
       "      <td>341</td>\n",
       "      <td>MNG</td>\n",
       "      <td>Montenegro</td>\n",
       "      <td>2006-06-03</td>\n",
       "      <td>2012-12-31</td>\n",
       "      <td>MTN</td>\n",
       "    </tr>\n",
       "    <tr>\n",
       "      <th>72</th>\n",
       "      <td>340</td>\n",
       "      <td>SER</td>\n",
       "      <td>Serbia</td>\n",
       "      <td>2006-06-05</td>\n",
       "      <td>2012-12-31</td>\n",
       "      <td>SRB</td>\n",
       "    </tr>\n",
       "    <tr>\n",
       "      <th>75</th>\n",
       "      <td>347</td>\n",
       "      <td>KOS</td>\n",
       "      <td>Kosovo</td>\n",
       "      <td>2008-02-17</td>\n",
       "      <td>2012-12-31</td>\n",
       "      <td>SCGKOS|YUGKOS</td>\n",
       "    </tr>\n",
       "    <tr>\n",
       "      <th>227</th>\n",
       "      <td>397</td>\n",
       "      <td>SOT</td>\n",
       "      <td>South Ossetia</td>\n",
       "      <td>2008-08-26</td>\n",
       "      <td>2012-12-31</td>\n",
       "      <td>oss</td>\n",
       "    </tr>\n",
       "    <tr>\n",
       "      <th>226</th>\n",
       "      <td>396</td>\n",
       "      <td>ABK</td>\n",
       "      <td>Abkhazia</td>\n",
       "      <td>2008-08-26</td>\n",
       "      <td>2012-12-31</td>\n",
       "      <td>abk</td>\n",
       "    </tr>\n",
       "    <tr>\n",
       "      <th>157</th>\n",
       "      <td>626</td>\n",
       "      <td>SSD</td>\n",
       "      <td>South Sudan</td>\n",
       "      <td>2011-07-09</td>\n",
       "      <td>2012-12-31</td>\n",
       "      <td>None</td>\n",
       "    </tr>\n",
       "  </tbody>\n",
       "</table>\n",
       "</div>"
      ],
      "text/plain": [
       "     gw_code abbreviation                             country_name  beginning  \\\n",
       "140      565          NAM                                  Namibia 1990-03-21   \n",
       "90       370          BLR                    Belarus (Byelorussia) 1991-08-25   \n",
       "80       359          MLD                                  Moldova 1991-08-27   \n",
       "179      703          KYR                          Kyrgyz Republic 1991-08-31   \n",
       "180      704          UZB                               Uzbekistan 1991-08-31   \n",
       "86       367          LAT                                   Latvia 1991-09-06   \n",
       "88       368          LIT                                Lithuania 1991-09-06   \n",
       "92       372          GRG                                  Georgia 1991-09-06   \n",
       "84       366          EST                                  Estonia 1991-09-06   \n",
       "178      702          TAJ                               Tajikistan 1991-09-09   \n",
       "177      701          TKM                             Turkmenistan 1991-10-27   \n",
       "69       343          MAC  Macedonia (Former Yugoslav Republic of) 1991-11-20   \n",
       "89       369          UKR                                  Ukraine 1991-12-01   \n",
       "181      705          KZK                               Kazakhstan 1991-12-16   \n",
       "93       373          AZE                               Azerbaijan 1991-12-21   \n",
       "91       371          ARM                                  Armenia 1991-12-21   \n",
       "74       346          BOS                       Bosnia-Herzegovina 1992-04-27   \n",
       "76       349          SLV                                 Slovenia 1992-04-27   \n",
       "70       344          CRO                                  Croatia 1992-04-27   \n",
       "57       316          CZR                           Czech Republic 1993-01-01   \n",
       "58       317          SLO                                 Slovakia 1993-01-01   \n",
       "131      531          ERI                                  Eritrea 1993-05-24   \n",
       "236      986          PAL                                    Palau 1994-10-01   \n",
       "210      860          ETM                               East Timor 2002-05-20   \n",
       "68       341          MNG                               Montenegro 2006-06-03   \n",
       "72       340          SER                                   Serbia 2006-06-05   \n",
       "75       347          KOS                                   Kosovo 2008-02-17   \n",
       "227      397          SOT                            South Ossetia 2008-08-26   \n",
       "226      396          ABK                                 Abkhazia 2008-08-26   \n",
       "157      626          SSD                              South Sudan 2011-07-09   \n",
       "\n",
       "           end          alias  \n",
       "140 2012-12-31           None  \n",
       "90  2012-12-31           None  \n",
       "80  2012-12-31            MDA  \n",
       "179 2012-12-31            KGZ  \n",
       "180 2012-12-31           None  \n",
       "86  2012-12-31            LVA  \n",
       "88  2012-12-31            LTU  \n",
       "92  2012-12-31            GEO  \n",
       "84  2012-12-31           None  \n",
       "178 2012-12-31            TJK  \n",
       "177 2012-12-31           None  \n",
       "69  2012-12-31     MKD|YUGMCD  \n",
       "89  2012-12-31           None  \n",
       "181 2012-12-31            KAZ  \n",
       "93  2012-12-31           None  \n",
       "91  2012-12-31           None  \n",
       "74  2012-12-31     BIH|YUGBSN  \n",
       "76  2012-12-31     SVN|YUGSLN  \n",
       "70  2012-12-31     HRV|YUGCTA  \n",
       "57  2012-12-31            CZE  \n",
       "58  2012-12-31            SVK  \n",
       "131 2012-12-31           None  \n",
       "236 2012-12-31            PLW  \n",
       "210 2012-12-31            TMP  \n",
       "68  2012-12-31            MTN  \n",
       "72  2012-12-31            SRB  \n",
       "75  2012-12-31  SCGKOS|YUGKOS  \n",
       "227 2012-12-31            oss  \n",
       "226 2012-12-31            abk  \n",
       "157 2012-12-31           None  "
      ]
     },
     "execution_count": 7,
     "metadata": {},
     "output_type": "execute_result"
    }
   ],
   "source": [
    "#filter and sort countries\n",
    "new_countries = country_codes[(country_codes['beginning'] > '1990-01-01')].sort_values(by = 'beginning')\n",
    "new_countries"
   ]
  },
  {
   "cell_type": "markdown",
   "metadata": {},
   "source": [
    "We also wanted to include information about the countries from which they were formed, and because of that we added columns *former_country*, *former_country_gw_code*, and *former_country_alias*.\n",
    "\n",
    "We wrote a function *find_former()* that for each newly formed country finds its former country as well as its *gw_code* and *alias*."
   ]
  },
  {
   "cell_type": "code",
   "execution_count": 8,
   "metadata": {},
   "outputs": [
    {
     "data": {
      "text/html": [
       "<div>\n",
       "<style>\n",
       "    .dataframe thead tr:only-child th {\n",
       "        text-align: right;\n",
       "    }\n",
       "\n",
       "    .dataframe thead th {\n",
       "        text-align: left;\n",
       "    }\n",
       "\n",
       "    .dataframe tbody tr th {\n",
       "        vertical-align: top;\n",
       "    }\n",
       "</style>\n",
       "<table border=\"1\" class=\"dataframe\">\n",
       "  <thead>\n",
       "    <tr style=\"text-align: right;\">\n",
       "      <th></th>\n",
       "      <th>gw_code</th>\n",
       "      <th>abbreviation</th>\n",
       "      <th>country_name</th>\n",
       "      <th>beginning</th>\n",
       "      <th>end</th>\n",
       "      <th>alias</th>\n",
       "      <th>former_country</th>\n",
       "      <th>former_country_gw_code</th>\n",
       "      <th>former_country_alias</th>\n",
       "    </tr>\n",
       "  </thead>\n",
       "  <tbody>\n",
       "    <tr>\n",
       "      <th>140</th>\n",
       "      <td>565</td>\n",
       "      <td>NAM</td>\n",
       "      <td>Namibia</td>\n",
       "      <td>1990-03-21</td>\n",
       "      <td>2012-12-31</td>\n",
       "      <td>None</td>\n",
       "      <td>SAF</td>\n",
       "      <td>560</td>\n",
       "      <td>ZAF</td>\n",
       "    </tr>\n",
       "    <tr>\n",
       "      <th>90</th>\n",
       "      <td>370</td>\n",
       "      <td>BLR</td>\n",
       "      <td>Belarus (Byelorussia)</td>\n",
       "      <td>1991-08-25</td>\n",
       "      <td>2012-12-31</td>\n",
       "      <td>None</td>\n",
       "      <td>RUS</td>\n",
       "      <td>365</td>\n",
       "      <td>USR</td>\n",
       "    </tr>\n",
       "    <tr>\n",
       "      <th>80</th>\n",
       "      <td>359</td>\n",
       "      <td>MLD</td>\n",
       "      <td>Moldova</td>\n",
       "      <td>1991-08-27</td>\n",
       "      <td>2012-12-31</td>\n",
       "      <td>MDA</td>\n",
       "      <td>RUS</td>\n",
       "      <td>365</td>\n",
       "      <td>USR</td>\n",
       "    </tr>\n",
       "    <tr>\n",
       "      <th>179</th>\n",
       "      <td>703</td>\n",
       "      <td>KYR</td>\n",
       "      <td>Kyrgyz Republic</td>\n",
       "      <td>1991-08-31</td>\n",
       "      <td>2012-12-31</td>\n",
       "      <td>KGZ</td>\n",
       "      <td>RUS</td>\n",
       "      <td>365</td>\n",
       "      <td>USR</td>\n",
       "    </tr>\n",
       "    <tr>\n",
       "      <th>180</th>\n",
       "      <td>704</td>\n",
       "      <td>UZB</td>\n",
       "      <td>Uzbekistan</td>\n",
       "      <td>1991-08-31</td>\n",
       "      <td>2012-12-31</td>\n",
       "      <td>None</td>\n",
       "      <td>RUS</td>\n",
       "      <td>365</td>\n",
       "      <td>USR</td>\n",
       "    </tr>\n",
       "  </tbody>\n",
       "</table>\n",
       "</div>"
      ],
      "text/plain": [
       "     gw_code abbreviation           country_name  beginning        end alias  \\\n",
       "140      565          NAM                Namibia 1990-03-21 2012-12-31  None   \n",
       "90       370          BLR  Belarus (Byelorussia) 1991-08-25 2012-12-31  None   \n",
       "80       359          MLD                Moldova 1991-08-27 2012-12-31   MDA   \n",
       "179      703          KYR        Kyrgyz Republic 1991-08-31 2012-12-31   KGZ   \n",
       "180      704          UZB             Uzbekistan 1991-08-31 2012-12-31  None   \n",
       "\n",
       "    former_country  former_country_gw_code former_country_alias  \n",
       "140            SAF                     560                  ZAF  \n",
       "90             RUS                     365                  USR  \n",
       "80             RUS                     365                  USR  \n",
       "179            RUS                     365                  USR  \n",
       "180            RUS                     365                  USR  "
      ]
     },
     "execution_count": 8,
     "metadata": {},
     "output_type": "execute_result"
    }
   ],
   "source": [
    "former_dict = {\n",
    "    'SAF': ['NAM'],\n",
    "    'RUS': ['BLR', 'MLD', 'KYR', 'UZB', 'LAT', 'LIT', 'GRG', 'EST', 'TAJ', 'TKM', 'UKR', 'KZK', 'AZE', 'ARM'],\n",
    "    'YUG': ['MAC', 'BOS', 'SLV', 'CRO', 'MNG', 'SER'],\n",
    "    'CZE': ['CZR', 'SLO'],\n",
    "    'ETH': ['ERI'],\n",
    "    'USA': ['PAL'],\n",
    "    'INS': ['ETM'],\n",
    "    'SER': ['KOS'],\n",
    "    'GRG': ['SOT', 'ABK'],\n",
    "    'SUD': ['SSD']\n",
    "}\n",
    "\n",
    "def find_former(row):\n",
    "    for former in former_dict:\n",
    "        if row['abbreviation'] in former_dict[former]:\n",
    "            return pd.Series([former,\n",
    "                              country_codes.loc[country_codes['abbreviation'] == former]['gw_code'].iloc[0],\n",
    "                              country_codes.loc[country_codes['abbreviation'] == former]['alias'].iloc[0]])\n",
    "    return pd.Series([None, None, None])\n",
    "\n",
    "#fill the new columns with the returned Series values\n",
    "new_countries[['former_country', 'former_country_gw_code', 'former_country_alias']] = new_countries.apply(lambda row: find_former(row), axis = 1)\n",
    "new_countries.head()"
   ]
  },
  {
   "cell_type": "markdown",
   "metadata": {},
   "source": [
    "After creating the initial DataFrame of observed countries, we are ready to load our sample GDELT dataset and UCDP datasets.\n",
    "\n",
    "We chose not to use the cluster for accessing the GDELT dataset at this stage as it the version of the dataset which contains a **greatly reduced** number of columns compared to the regular GDELT dataset. Instead we chose to download only a couple of years of GDELT events and work with a table that has the full number of columns as that data will actually be used until the end of the project. Working with a database we would later have no use of made no sense to us and therefore we chose this approach.\n",
    "\n",
    "The header for the GDELT tables can be found in a [webpage](https://www.gdeltproject.org/data/lookups/CSV.header.historical.txt) separate from the table contents themselves. We downloaded that data and stored it as our *column_names* variable."
   ]
  },
  {
   "cell_type": "code",
   "execution_count": 9,
   "metadata": {},
   "outputs": [
    {
     "ename": "FileNotFoundError",
     "evalue": "[Errno 2] No such file or directory: 'data/GDELT/CSV.header.historical.txt'",
     "output_type": "error",
     "traceback": [
      "\u001b[1;31m---------------------------------------------------------------------------\u001b[0m",
      "\u001b[1;31mFileNotFoundError\u001b[0m                         Traceback (most recent call last)",
      "\u001b[1;32m<ipython-input-9-27b29e94b4f4>\u001b[0m in \u001b[0;36m<module>\u001b[1;34m()\u001b[0m\n\u001b[1;32m----> 1\u001b[1;33m \u001b[0mheader_file\u001b[0m \u001b[1;33m=\u001b[0m \u001b[0mopen\u001b[0m\u001b[1;33m(\u001b[0m\u001b[1;34m'data/GDELT/CSV.header.historical.txt'\u001b[0m\u001b[1;33m,\u001b[0m \u001b[1;34m'r'\u001b[0m\u001b[1;33m)\u001b[0m\u001b[1;33m\u001b[0m\u001b[0m\n\u001b[0m\u001b[0;32m      2\u001b[0m \u001b[0mcolumn_names\u001b[0m \u001b[1;33m=\u001b[0m \u001b[0mheader_file\u001b[0m\u001b[1;33m.\u001b[0m\u001b[0mread\u001b[0m\u001b[1;33m(\u001b[0m\u001b[1;33m)\u001b[0m\u001b[1;33m.\u001b[0m\u001b[0mstrip\u001b[0m\u001b[1;33m(\u001b[0m\u001b[1;34m'\\n'\u001b[0m\u001b[1;33m)\u001b[0m\u001b[1;33m.\u001b[0m\u001b[0msplit\u001b[0m\u001b[1;33m(\u001b[0m\u001b[1;34m'\\t'\u001b[0m\u001b[1;33m)\u001b[0m\u001b[1;33m\u001b[0m\u001b[0m\n",
      "\u001b[1;31mFileNotFoundError\u001b[0m: [Errno 2] No such file or directory: 'data/GDELT/CSV.header.historical.txt'"
     ]
    }
   ],
   "source": [
    "header_file = open('data/GDELT/CSV.header.historical.txt', 'r')\n",
    "column_names = header_file.read().strip('\\n').split('\\t')"
   ]
  },
  {
   "cell_type": "markdown",
   "metadata": {},
   "source": [
    "When we got the headers, we were ready to load the data itself. For now, we limited ourselves to the years of 1990 and 1991, during which the creation of new countries was the most frequent."
   ]
  },
  {
   "cell_type": "code",
   "execution_count": null,
   "metadata": {
    "collapsed": true
   },
   "outputs": [],
   "source": [
    "events90 = pd.read_csv('data/GDELT/1990.csv', sep='\\t', header = None, names = column_names)\n",
    "events91 = pd.read_csv('data/GDELT/1991.csv', sep='\\t', header = None, names = column_names)\n",
    "events = events90.append(events91)\n",
    "events.shape"
   ]
  },
  {
   "cell_type": "markdown",
   "metadata": {},
   "source": [
    "We can see that we have around 2.6 million entries in total for the years 1990 and 1991.\n",
    "\n",
    "After loading, we had to convert the dates in the columns *SQLDATE*, *MonthYear* and *Year* in order to process them easier."
   ]
  },
  {
   "cell_type": "code",
   "execution_count": null,
   "metadata": {
    "collapsed": true
   },
   "outputs": [],
   "source": [
    "#convert columns to the right date format\n",
    "events['SQLDATE'] = pd.to_datetime(events['SQLDATE'], format='%Y%m%d')\n",
    "events['MonthYear'] = pd.to_datetime(events['MonthYear'], format='%Y%m')\n",
    "events['Year'] = pd.to_datetime(events['Year'], format='%Y')"
   ]
  },
  {
   "cell_type": "markdown",
   "metadata": {},
   "source": [
    "Now we are ready to begin the analysis of our data sample. We created a search criteria constructed from all the country abbreviations and aliases that will be checked as a regex in the *str.contains()* function.\n",
    "\n",
    "We filtered the events by checking whether the columns *Actor1CountryCode*, *Actor2CountryCode*, *Actor1EthnicCode* or *Actor2EthnicCode* contain our search criteria.\n",
    "\n",
    "For the next milestone, we plan on including the columns *Actor1Geo_CountryCode*, *Actor2Geo_CountryCode* and *ActionGeo_CountryCode* to our analysis. These columns also contain country codes but these codes are in a [completely different format](https://en.wikipedia.org/wiki/FIPS_10-4) from all the previous ones..."
   ]
  },
  {
   "cell_type": "code",
   "execution_count": null,
   "metadata": {
    "collapsed": true
   },
   "outputs": [],
   "source": [
    "search_criteria = '|'.join(new_countries['abbreviation']) + '|'.join(new_countries['alias'].dropna())\n",
    "#filter by search criteria\n",
    "observed_events = events.loc[(events['Actor1CountryCode'].str.contains(search_criteria, na=False))|\n",
    "                             (events['Actor2CountryCode'].str.contains(search_criteria, na=False))|\n",
    "                             (events['Actor1EthnicCode'].str.contains(search_criteria, na=False))|\n",
    "                             (events['Actor2EthnicCode'].str.contains(search_criteria, na=False))]\n",
    "observed_events.shape"
   ]
  },
  {
   "cell_type": "markdown",
   "metadata": {},
   "source": [
    "We can observe that the number of events has reduced significantly, to around 186000, which is a more managable number.\n",
    "\n",
    "Next, we can show the percentage of values in the columns that are not NaN."
   ]
  },
  {
   "cell_type": "code",
   "execution_count": null,
   "metadata": {
    "collapsed": true
   },
   "outputs": [],
   "source": [
    "#get percentage of non-NaN values\n",
    "print(observed_events['Actor1CountryCode'].count()/len(observed_events) * 100)\n",
    "print(observed_events['Actor2CountryCode'].count()/len(observed_events) * 100)\n",
    "print(observed_events['Actor1EthnicCode'].count()/len(observed_events) * 100)\n",
    "print(observed_events['Actor2EthnicCode'].count()/len(observed_events) * 100)\n",
    "print(observed_events['Actor1Geo_CountryCode'].count()/len(observed_events) * 100)\n",
    "print(observed_events['Actor2Geo_CountryCode'].count()/len(observed_events) * 100)\n",
    "print(observed_events['ActionGeo_CountryCode'].count()/len(observed_events) * 100)"
   ]
  },
  {
   "cell_type": "markdown",
   "metadata": {},
   "source": [
    "We see that while the country codes are mostly filled everywhere, ethnic codes exist in less then 1% of our observed events."
   ]
  },
  {
   "cell_type": "markdown",
   "metadata": {},
   "source": [
    "Now we can see the distribution of the different number of root events, grouped by countries. The observed column is the *EventRootCode*, which assigns a general classification to an event. The columns *EventBaseCode* and *EventCode* further distinguish between the events."
   ]
  },
  {
   "cell_type": "code",
   "execution_count": null,
   "metadata": {
    "collapsed": true
   },
   "outputs": [],
   "source": [
    "event_counts = observed_events.groupby(by = ['Actor1CountryCode', 'EventRootCode']).size()"
   ]
  },
  {
   "cell_type": "markdown",
   "metadata": {},
   "source": [
    "Here we showed event statistics for three countries: Armenia, Moldova and USSR/Russia."
   ]
  },
  {
   "cell_type": "code",
   "execution_count": null,
   "metadata": {
    "collapsed": true
   },
   "outputs": [],
   "source": [
    "arm_event_count = pd.DataFrame(event_counts.loc['ARM'], columns = ['Event count'])\n",
    "mda_event_count = pd.DataFrame(event_counts.loc['MDA'], columns = ['Event count'])\n",
    "rus_event_count = pd.DataFrame(event_counts.loc['RUS'], columns = ['Event count'])"
   ]
  },
  {
   "cell_type": "markdown",
   "metadata": {},
   "source": [
    "We created a simple function that plots our the counts of different types of events for the given DataFrame and country name."
   ]
  },
  {
   "cell_type": "code",
   "execution_count": null,
   "metadata": {
    "collapsed": true
   },
   "outputs": [],
   "source": [
    "def plot_event_count(df, country_name):\n",
    "    plt.figure()\n",
    "    ax = sns.barplot(x = df.index, y = 'Event count', data = df)\n",
    "    #set the plot title\n",
    "    ax.set_title(country_name + ' event count')"
   ]
  },
  {
   "cell_type": "code",
   "execution_count": null,
   "metadata": {
    "collapsed": true
   },
   "outputs": [],
   "source": [
    "plot_event_count(arm_event_count, 'Armenia')\n",
    "plot_event_count(mda_event_count, 'Moldova')\n",
    "plot_event_count(rus_event_count, 'USSR/Russia')"
   ]
  },
  {
   "cell_type": "markdown",
   "metadata": {},
   "source": [
    "The most striking insight from these plots is that the distribution of event types 4(*Consult*) and 5(*Engage in diplomatic cooperation*) are similarly distributed. We can also see that Armenia has proportionally a much greater number of events marked as 19(*Fight*) compared to Moldova and USSR/Russia. Besides that, we can see that the total number of events is much less for Moldova than for USSR/Russia.  \n",
    "\n",
    "\n",
    "In these plots, events are designated by their code. In the later stages of the implementation, we plan on making a categoric variable from the event codes using [this dataset](https://www.gdeltproject.org/data/lookups/CAMEO.eventcodes.txt).\n",
    "\n",
    "Now we can try adding the grouping of events by dates to show their temporal distribution."
   ]
  },
  {
   "cell_type": "code",
   "execution_count": null,
   "metadata": {
    "collapsed": true
   },
   "outputs": [],
   "source": [
    "event_time_dist = events.groupby(by = ['Actor1CountryCode', 'MonthYear', 'EventRootCode']).size()"
   ]
  },
  {
   "cell_type": "markdown",
   "metadata": {},
   "source": [
    "Here we showed event statistics for the same three countries: Armenia, Moldova and USSR/Russia. As an example, we chose to plot events with root codes 10(*Demand*) and 14(*Protest*)."
   ]
  },
  {
   "cell_type": "code",
   "execution_count": null,
   "metadata": {
    "collapsed": true
   },
   "outputs": [],
   "source": [
    "#transform the DataFrame with unstack() for easier plotting\n",
    "arm_event_time = pd.DataFrame(event_time_dist.loc['ARM'], columns = ['Event count']).loc(axis=0)[:, [10, 14]].unstack(1, fill_value = 0)\n",
    "rus_event_time = pd.DataFrame(event_time_dist.loc['RUS'], columns = ['Event count']).loc(axis=0)[:, [10, 14]].unstack(1, fill_value = 0)\n",
    "mda_event_time = pd.DataFrame(event_time_dist.loc['MDA'], columns = ['Event count']).loc(axis=0)[:, [10, 14]].unstack(1, fill_value = 0)"
   ]
  },
  {
   "cell_type": "markdown",
   "metadata": {},
   "source": [
    "We created a function *plot_event_time()* that plots our temporal data as a line plot."
   ]
  },
  {
   "cell_type": "code",
   "execution_count": null,
   "metadata": {
    "collapsed": true
   },
   "outputs": [],
   "source": [
    "def plot_event_time(df, country_name):\n",
    "    ax = df.plot()\n",
    "    ax.set_title(country_name + ' events distribution')"
   ]
  },
  {
   "cell_type": "code",
   "execution_count": null,
   "metadata": {
    "collapsed": true
   },
   "outputs": [],
   "source": [
    "#sns.tsplot(time = rus_event_time.index, data = rus_event_time)\n",
    "plot_event_time(arm_event_time, 'Armenia')\n",
    "plot_event_time(mda_event_time, 'Moldova')\n",
    "plot_event_time(rus_event_time, 'USSR/Russia')"
   ]
  },
  {
   "cell_type": "markdown",
   "metadata": {},
   "source": [
    "We see that the number of 10-*Demand* event types increases for all three countries around August and September of 1991, which coincides with some of the [key events](https://en.wikipedia.org/wiki/1991_Soviet_coup_d%27%C3%A9tat_attempt) that led to the final dissolution of the USSR. Astoundingly, we do not see a large variation in the number of 14-*Protest* events during this timeframe within any of the three countries."
   ]
  },
  {
   "cell_type": "markdown",
   "metadata": {},
   "source": [
    "Above shown is just a beginning of analysis that we would initally do.\n",
    "\n",
    "A way to enrich our analysis is to use *UCDP Conflict Termination Dataset* and *UCDP External Support Dataset*. With these datasets, we can evaluate how the number of, for example, *Fight* type events correlates with the observed termination of conflict inside a country."
   ]
  },
  {
   "cell_type": "code",
   "execution_count": null,
   "metadata": {
    "collapsed": true
   },
   "outputs": [],
   "source": [
    "conflict_termination = pd.read_excel('data/UCDP/ucdp-term-conf-2015.xlsx')"
   ]
  },
  {
   "cell_type": "markdown",
   "metadata": {},
   "source": [
    "After loading the *UCDP Conflict Termination Dataset*, we filtered it to fit our currently observing years of 1990 and 1991 and for the matching parties to correspond to the *Gleditsch and Ward* country numbers of our observed countries."
   ]
  },
  {
   "cell_type": "code",
   "execution_count": null,
   "metadata": {
    "collapsed": true
   },
   "outputs": [],
   "source": [
    "conflict_term_90_91 = conflict_termination.loc[conflict_termination['Year'].isin(observed_years) & \n",
    "                                              (conflict_termination['GWNoA'].isin(new_countries['gw_code'].tolist())|\n",
    "                                               conflict_termination['GWNoA2nd'].isin(new_countries['gw_code'].tolist())|\n",
    "                                               conflict_termination['GWNoB'].isin(new_countries['gw_code'].tolist())|\n",
    "                                               conflict_termination['GWNoB2nd'].isin(new_countries['gw_code'].tolist()))]                                                  \n",
    "conflict_term_90_91"
   ]
  },
  {
   "cell_type": "markdown",
   "metadata": {},
   "source": [
    "We can see that only two conflicts ended in 1991, the first one being between the *Government of Georgia* and the *National Guard and Mkhedrioni*, and the second one being between the *Government of Azerbaijan* on one side and the *Republic of Nagorno-Karabakh* with the support of *Government of Armenia* on the other side.\n",
    "\n",
    "We extracted the IDs of these conflicts in an array so that we could filter the *UCDP External Support Dataset* by those conflict IDs. The conflict IDs in the two *UCDP* datasets slightly differ.\n",
    "\n",
    "However, the conflict IDs in the *Conflict Termination Dataset* start with \"1-\" so we removed it in order to make it compatible with the *External Support Dataset*. "
   ]
  },
  {
   "cell_type": "code",
   "execution_count": null,
   "metadata": {
    "collapsed": true
   },
   "outputs": [],
   "source": [
    "observed_conflict_ids = conflict_term_90_91['ConflictId'].apply(lambda x: x.split('-')[1]).tolist()\n",
    "observed_conflict_ids"
   ]
  },
  {
   "cell_type": "code",
   "execution_count": null,
   "metadata": {
    "collapsed": true
   },
   "outputs": [],
   "source": [
    "external_support = pd.read_excel('data/UCDP/extsup_small.xls')\n",
    "external_support.head()"
   ]
  },
  {
   "cell_type": "markdown",
   "metadata": {},
   "source": [
    "After loading the *UCDP External Support Dataset*, we filtered it by our observed years of 1990 and 1991 and by the conflict IDs we obtained in previous steps."
   ]
  },
  {
   "cell_type": "code",
   "execution_count": null,
   "metadata": {
    "collapsed": true
   },
   "outputs": [],
   "source": [
    "observed_support = external_support.loc[external_support['ywp_year'].isin(observed_years) &\n",
    "                                        external_support['conflictID'].isin(observed_conflict_ids)]\n",
    "observed_support"
   ]
  },
  {
   "cell_type": "markdown",
   "metadata": {},
   "source": [
    "This DataFrame shows the external support for all the conflicted parties involved in a conflict. In the *Government of Azerbaijan - Republic of Nagorno-Karabakh* conflict only the the Republic of Nagorno-Karabakh received support, while the Government of Azerbaijan did not.\n",
    "We can characterize the *Government of Georgia* - *National Guard and Mkhedrioni* conflict as being completely internal, as no conflicted party received known or alleged external support of any kind. \n",
    "\n",
    "We can observe that in the above DataFrame existed only one provider of external support, and that was Armenia, which supported the Republic of Nagorno-Karabakh.\n",
    "\n",
    "We can see how it supported the Republic of Nagorno-Karabakh by printing the *external_type* and *external_comment* fields:"
   ]
  },
  {
   "cell_type": "code",
   "execution_count": null,
   "metadata": {
    "collapsed": true
   },
   "outputs": [],
   "source": [
    "print(observed_support['external_type'].dropna().tolist()[0])\n",
    "print(observed_support['external_comment'].dropna().tolist()[0])"
   ]
  },
  {
   "cell_type": "markdown",
   "metadata": {},
   "source": [
    "This finishes our sample analysis for this milestone, which hopefully demonstrates our ability to manipulate the different kinds of data we obtained from various sources that are relevant to our later analysis. The planned future steps of our analysis are outlined in the README file of the project."
   ]
  },
  {
   "cell_type": "markdown",
   "metadata": {},
   "source": [
    "<a id='m3'></a>\n",
    "# Milestone 3"
   ]
  },
  {
   "cell_type": "code",
   "execution_count": null,
   "metadata": {
    "collapsed": true
   },
   "outputs": [],
   "source": [
    "#visualization\n",
    "import seaborn as sns\n",
    "import matplotlib.pyplot as plt\n",
    "%matplotlib inline\n",
    "import plotly\n",
    "import plotly.plotly as py\n",
    "from plotly.graph_objs import *\n",
    "import IPython\n",
    "\n",
    "#data_manipulation\n",
    "import pandas as pd\n",
    "import numpy as np\n",
    "import networkx as nx\n",
    "from networkx.algorithms import bipartite\n",
    "\n",
    "#ML\n",
    "from sklearn.linear_model import LogisticRegression\n",
    "from sklearn.metrics import confusion_matrix, classification_report, accuracy_score\n",
    "from sklearn import svm\n",
    "from sklearn.neural_network import MLPClassifier\n",
    "from sklearn import tree\n",
    "\n",
    "from math import pi\n",
    "\n",
    "plotly.tools.set_credentials_file(username='MilenaFilipovic', api_key='AiBlKAOtJ0Admy3u8e2u')\n",
    "plt.rcParams['figure.figsize'] = [16, 8]\n",
    "pd.options.display.max_rows = 999"
   ]
  },
  {
   "cell_type": "markdown",
   "metadata": {},
   "source": [
    "## Border changes"
   ]
  },
  {
   "cell_type": "markdown",
   "metadata": {},
   "source": [
    "As there is no comprehensive list of all border changes that occured during the last 40 years, we decided to create one ourselves. We believe that the list we compiled is pretty extensive and, if maybe not entirely complete in scope, it is enough for our analysis.\n",
    "\n",
    "We created our list in a spreadsheet and exported it to csv, which we then loaded into the notebook."
   ]
  },
  {
   "cell_type": "code",
   "execution_count": null,
   "metadata": {
    "collapsed": true
   },
   "outputs": [],
   "source": [
    "observed_countries = pd.read_csv('observed_countries.csv')\n",
    "observed_countries"
   ]
  },
  {
   "cell_type": "markdown",
   "metadata": {},
   "source": [
    "<a id='first_df'></a>\n",
    "In the previous frame, we can see that we have a list of 54 countries that were created during the last 40 years. The dataframe is organised in the following manner:\n",
    "* **Country**: The name of the newly created country\n",
    "* **Type**: Type of border change\n",
    "* **Year**: The name of the newly created country\n",
    "* **Country before border change**: The name of the \"parent\" country\n",
    "* **CAMEO new**: The CAMEO codes of the newly created country, with aliases for the same country; some entries also contain primary ethnic group in the country\n",
    "* **CAMEO old**: The CAMEO codes of the parent country\n",
    "* **FIPS new**: The FIPS codes of the newly created country; some entries also contain regions of a parent country they were a part of\n",
    "* **FIPS old**: The FIPS codes of the parent country\n",
    "* **Description**: A short description of border change"
   ]
  },
  {
   "cell_type": "markdown",
   "metadata": {},
   "source": [
    "When we completed writing this list, we were ready to extract some events from the *GDELT dataset*. Sadly, even after all our pleas, the full *GDELT v1* dataset was not available on the cluster. Initially, *GDELT v1* was uploaded with a reduced number of columns, while the *GDELT v2* was uploaded with events starting from 2015, which was insufficient for our analysis.\n",
    "\n",
    "Fortunately, *GDELT* was available on the [Google BigQuery](https://cloud.google.com/bigquery/) platform, and we could write our own SQL queries which would extract the data we needed.\n",
    "\n",
    "To obtain this data, we used the information contained in the CAMEO and FIPS codes of each country. We created a function *print_country_codes()* which extracts and combines the codes of the same type for all countries."
   ]
  },
  {
   "cell_type": "code",
   "execution_count": null,
   "metadata": {
    "collapsed": true
   },
   "outputs": [],
   "source": [
    "def print_country_codes(country_df):\n",
    "    #get a list of all FIPS codes\n",
    "    fips_country_codes = '|'.join(set(('|'.join(country_df['FIPS new'].dropna()) + '|' + '|'.join(country_df['FIPS old'].dropna())).split('|')))\n",
    "    #get a list of all CAMEO codes\n",
    "    cameo_codes = set(('|'.join(country_df['CAMEO new'].dropna()) + '|' + '|'.join(country_df['CAMEO old'].dropna())).split('|'))\n",
    "    \n",
    "    #divide CAMEO codes to country codes and ethnic codes\n",
    "    cameo_country_codes = [code for code in cameo_codes if not code.islower()]\n",
    "    cameo_ethnic_codes = '|'.join(cameo_codes - set(cameo_country_codes))\n",
    "    cameo_country_codes = '|'.join(cameo_country_codes)\n",
    "    \n",
    "    #sort code lists\n",
    "    fcc = fips_country_codes.split('|')\n",
    "    fcc.sort()        \n",
    "    ccc = cameo_country_codes.split('|')\n",
    "    ccc.sort()    \n",
    "    cec = cameo_ethnic_codes.split('|')\n",
    "    cec.sort()\n",
    "    \n",
    "    #print them\n",
    "    print('FIPS country codes:')\n",
    "    print('|'.join(fcc)+'\\n')\n",
    "    \n",
    "    print('CAMEO country codes:')\n",
    "    print('|'.join(ccc)+'\\n')\n",
    "    \n",
    "    print('CAMEO ethnic codes:')\n",
    "    print('|'.join(cec)+'\\n')"
   ]
  },
  {
   "cell_type": "code",
   "execution_count": null,
   "metadata": {
    "collapsed": true
   },
   "outputs": [],
   "source": [
    "print_country_codes(observed_countries)"
   ]
  },
  {
   "cell_type": "markdown",
   "metadata": {},
   "source": [
    "When this was done, we were ready to execute our queries on the BigQuery platform.\n",
    "\n",
    "Firstly, we chose to extract events for all countries. For each country participating in a specific border change, we extracted events relating to the participating countries since the beginning of the dataset(1979) until 5 years after the border change. The SQL script for this looked something like this:\n",
    "\n",
    "```SQL\n",
    "SELECT * FROM [gdelt-bq:full.events] \n",
    "WHERE\n",
    "(YEAR<1998 AND\n",
    "(REGEXP_MATCH (CONCAT(IFNULL(Actor1Code, '+'), '_', IFNULL(Actor1CountryCode, '+'), '_', IFNULL(Actor2Code, '+'), '_', IFNULL(Actor2CountryCode, '+')), r'GEO') OR\n",
    "REGEXP_MATCH (CONCAT(IFNULL(Actor1Geo_CountryCode, '+'), '_', IFNULL(Actor1Geo_ADM1Code, '+'), '_', IFNULL(Actor2Geo_CountryCode, '+'), '_', IFNULL(Actor2Geo_ADM1Code, '+')), r'GG02|GG') OR REGEXP_MATCH (CONCAT(IFNULL(Actor1EthnicCode, '+'), '_', IFNULL(Actor2EthnicCode, '+')), r'abk')))\n",
    "OR\n",
    "(YEAR<1986 AND\n",
    "(REGEXP_MATCH (CONCAT(IFNULL(Actor1Code, '+'), '_', IFNULL(Actor1CountryCode, '+'), '_', IFNULL(Actor2Code, '+'), '_', IFNULL(Actor2CountryCode, '+')), r'ATG|GBR') OR\n",
    "REGEXP_MATCH (CONCAT(IFNULL(Actor1Geo_CountryCode, '+'), '_', IFNULL(Actor1Geo_ADM1Code, '+'), '_', IFNULL(Actor2Geo_CountryCode, '+'), '_', IFNULL(Actor2Geo_ADM1Code, '+')), r'AC|UK')))\n",
    "OR...\n",
    "```\n",
    "\n",
    "We stored those events in a separate table and then decided to group the events by their ActorCountryCode and the EventRootCode:\n",
    "\n",
    "```SQL\n",
    "SELECT\n",
    "  Actor1CountryCode AS ActorCountryCode,\n",
    "  EventRootCode,\n",
    "  COUNT(EventRootCode) AS EventCount,\n",
    "  AVG(GoldsteinScale) AS AvgGoldScore,\n",
    "  AVG(AvgTone) AS AvgTone\n",
    "FROM\n",
    "  [GDELT.gdelt_filtered]\n",
    "WHERE\n",
    "  REGEXP_MATCH (Actor1CountryCode, r'ARM|ATG|AZE|BIH|BIHBHF|BIHSRP|BLR|BLZ|BRN|CRO|CYP|CZA|CZE|DEU|ERI|EST|ETH|FRA|FRY|FRYKSV|FRYMTN|FRYSRB|FSM|GBR|GEO|GMB|GME|GMW|HRV|IDN|IRQ|ISR|KAZ|KGZ|KHM|KIR|KNA|KWT|LCA|LTU|LVA|MDA|MHL|MKD|MTN|NAM|PAL|PLW|PSE|RUS|RUSCNY|SCG|SCGKSV|SCGMTN|SCGSRB|SDN|SEN|SER|SOM|SRB|SRBKSV|SSD|SVK|SVN|TJK|TKM|TMP|UKR|USA|USR|UZB|VCT|VNM|VUT|YEM|YMN|YMS|YUG|YUGBSN|YUGCTA|YUGKSV|YUGMCD|YUGMTN|YUGSLN|YUGSRB|ZAF|ZWE')\n",
    "  GROUP BY\n",
    "  Actor1CountryCode,\n",
    "  EventRootCode\n",
    "ORDER BY\n",
    "  Actor1CountryCode,\n",
    "  EventRootCode\n",
    "```\n",
    "\n",
    "When we got the results of the query, we downloaded them as as .csv file. We did this for both actors (Actor1CountryCode, Actor2CountryCode), as well as both types of codes (Actor1Geo_CountryCode, Actor2Geo_CountryCode), by skipping the events we already extracted with the previous query:\n",
    "\n",
    "```SQL\n",
    "SELECT\n",
    "  Actor1Geo_CountryCode AS ActorGeo_CountryCode,\n",
    "  EventRootCode,\n",
    "  COUNT(EventRootCode) AS EventCount,\n",
    "  AVG(GoldsteinScale) AS AvgGoldScore,\n",
    "  AVG(AvgTone) AS AvgTone\n",
    "FROM\n",
    "  [GDELT.gdelt_filtered]\n",
    "WHERE\n",
    "  REGEXP_MATCH (Actor1Geo_CountryCode, r'A56|AC|AJ|AJ03|AJ14|AJ18|AJ26|AJ28|AJ43|AJ55|AJ57|AJ61|AJ64|AJ65|AJ69|AM|BH|BK|BO|BX|BZ|CB|CY|CY01|CY02|CZ|CZ01|CZ02|EN|ER|ET|ET04|EZ|FM|FR|GA|GC|GE|GG|GG02|GG05|GG24|GM|GZ|HR|ID|ID27|IS|IZ|KG|KR|KU|KV|KZ|LG|LH|LO|MD|MD04|MD09|MD19|MD25|MD33|MD36|MD43|MJ|MK|MW|NH|NQ20|NQ25|NQ30|OD|PS|RB|RI|RM|RS|RS12|SC|SF|SG|SI|SO|SO12|SO15|SO21|SO22|SR|ST|SU|TI|TT|TX|UK|UP|UP11|UR|UR01|UR02|UR03|UR04|UR05|UR06|UR07|UR08|UR09|UR10|UR11|UR12|UR13|UR14|UR15|US|UZ|VC|VM|WA|WE|YE|YI|YI01|YI02|YM|YO|YO01|YO02|YO03|YO05|YO06|YO07|YS|ZI')\n",
    "  AND NOT REGEXP_MATCH (Actor1CountryCode, r'ARM|ATG|AZE|BIH|BIHBHF|BIHSRP|BLR|BLZ|BRN|CRO|CYP|CZA|CZE|DEU|ERI|EST|ETH|FRA|FRY|FRYKSV|FRYMTN|FRYSRB|FSM|GBR|GEO|GMB|GME|GMW|HRV|IDN|IRQ|ISR|KAZ|KGZ|KHM|KIR|KNA|KWT|LCA|LTU|LVA|MDA|MHL|MKD|MTN|NAM|PAL|PLW|PSE|RUS|RUSCNY|SCG|SCGKSV|SCGMTN|SCGSRB|SDN|SEN|SER|SOM|SRB|SRBKSV|SSD|SVK|SVN|TJK|TKM|TMP|UKR|USA|USR|UZB|VCT|VNM|VUT|YEM|YMN|YMS|YUG|YUGBSN|YUGCTA|YUGKSV|YUGMCD|YUGMTN|YUGSLN|YUGSRB|ZAF|ZWE')\n",
    "GROUP BY\n",
    "  Actor1Geo_CountryCode,\n",
    "  EventRootCode\n",
    "ORDER BY\n",
    "  Actor1Geo_CountryCode,\n",
    "  EventRootCode\n",
    "```\n",
    "\n",
    "Combining the events that contain a CAMEO country code and a FIPS country code relating to a specific country proved useful, as we obtained a decent number of different events with the FIPS filtering.\n",
    "We tried to do the same with other columns that may contain relevant information (ActorCode, ActorEthnicCode, ActorGeo_ADM1Code), but this yielded no more events.\n",
    " \n",
    "The next step was to load and combine the datasets we obtained from BigQuery into our notebook. For that, we created functions *load_both_actor_datasets()* and *merge_actor_columns()*.\n",
    "\n",
    "We also created a mapping for the EventRootCode column to its corresponding textual meaning."
   ]
  },
  {
   "cell_type": "code",
   "execution_count": null,
   "metadata": {
    "collapsed": true
   },
   "outputs": [],
   "source": [
    "event_codes = {\n",
    "1: 'Make Public Statement',\n",
    "2: 'Appeal',\n",
    "3: 'Express Intent To Cooperate',\n",
    "4: 'Consult',\n",
    "5: 'Engage In Diplomatic Cooperation',\n",
    "6: 'Engage In Material Cooperation',\n",
    "7: 'Provide Aid',\n",
    "8: 'Yield',\n",
    "9: 'Investigate',\n",
    "10: 'Demand',\n",
    "11: 'Disapprove',\n",
    "12: 'Reject',\n",
    "13: 'Threaten',\n",
    "14: 'Protest',\n",
    "15: 'Exhibit Military Posture',\n",
    "16: 'Reduce Relations',\n",
    "17: 'Coerce',\n",
    "18: 'Assault',\n",
    "19: 'Fight',\n",
    "20: 'Engage In Unconventional Mass Violence'}"
   ]
  },
  {
   "cell_type": "code",
   "execution_count": null,
   "metadata": {
    "collapsed": true
   },
   "outputs": [],
   "source": [
    "def load_both_actor_datasets(actor1_file, actor2_file, index_col):\n",
    "    #load both datasets and drop nulls\n",
    "    actor1_grouping = pd.read_csv(actor1_file)\n",
    "    actor2_grouping = pd.read_csv(actor2_file)\n",
    "    actor1_grouping.dropna(inplace = True)\n",
    "    actor2_grouping.dropna(inplace = True)\n",
    "    #change event root codes to their textual format\n",
    "    actor1_grouping['EventRootCode'] = actor1_grouping['EventRootCode'].apply(lambda x: event_codes.get(x))\n",
    "    actor2_grouping['EventRootCode'] = actor2_grouping['EventRootCode'].apply(lambda x: event_codes.get(x))\n",
    "    #set index\n",
    "    actor1_grouping.set_index(keys = index_col, inplace = True)\n",
    "    actor2_grouping.set_index(keys = index_col, inplace = True)\n",
    "    #merge tables\n",
    "    merged_actors = pd.merge(actor1_grouping, actor2_grouping, left_index=True, right_index=True, how='outer')\n",
    "    return merged_actors\n",
    "\n",
    "def merge_actor_columns(merged_df):\n",
    "    merged_df['EventCount'] = merged_df['EventCount_x'].fillna(0).astype('int64') + merged_df['EventCount_y'].fillna(0).astype('int64')\n",
    "    merged_df['AvgGoldScore'] = (merged_df['EventCount_x'].fillna(0).astype('int64') * merged_df['AvgGoldScore_x'].fillna(0)\n",
    "                                   +merged_df['EventCount_y'].fillna(0).astype('int64') * merged_df['AvgGoldScore_y'].fillna(0))/merged_df['EventCount']\n",
    "    merged_df['AvgTone'] = (merged_df['EventCount_x'].fillna(0).astype('int64') * merged_df['AvgTone_x'].fillna(0)\n",
    "                                   +merged_df['EventCount_y'].fillna(0).astype('int64') * merged_df['AvgTone_y'].fillna(0))/merged_df['EventCount']\n",
    "    merged_df.drop(['EventCount_x', 'AvgGoldScore_x', 'AvgTone_x', 'EventCount_y', 'AvgGoldScore_y', 'AvgTone_y'], axis=1, inplace = True)"
   ]
  },
  {
   "cell_type": "markdown",
   "metadata": {},
   "source": [
    "Firstly, we loaded the datasets for both actors with events extracted from CAMEO country codes."
   ]
  },
  {
   "cell_type": "code",
   "execution_count": null,
   "metadata": {
    "collapsed": true
   },
   "outputs": [],
   "source": [
    "cameo_grouped = load_both_actor_datasets(actor1_file = 'Actor1CountryCode_grouping.csv',\n",
    "                                         actor2_file = 'Actor2CountryCode_grouping.csv',\n",
    "                                         index_col = ['ActorCountryCode', 'EventRootCode'])\n",
    "cameo_grouped.head()"
   ]
  },
  {
   "cell_type": "markdown",
   "metadata": {},
   "source": [
    "Here, we see that we have the number of events for each country and a specific type of event, divided by actors.\n",
    "\n",
    "We also have the columns **AvgGoldScore** and **AvgTone**. The column **AvgGoldScore** reprsents the average value of  the potential impact that this type of event will have on the stability of a country. The column **AvgTone** represents the average “tone” of all documents containing one or more mentions of this type of event.\n",
    "\n",
    "A more detailed description of the Goldstain Scale and the Average Tone of an event can be found in the [GDELT Data Format Codebook](http://data.gdeltproject.org/documentation/GDELT-Data_Format_Codebook.pdf).\n",
    "\n",
    "Next, we wanted to merge the columns for both actors. We added the number of events for each actor and calculated the **AvgGoldScore** and **AvgTone** appropriately."
   ]
  },
  {
   "cell_type": "code",
   "execution_count": null,
   "metadata": {
    "collapsed": true
   },
   "outputs": [],
   "source": [
    "merge_actor_columns(cameo_grouped)\n",
    "cameo_grouped.head()"
   ]
  },
  {
   "cell_type": "markdown",
   "metadata": {},
   "source": [
    "When this was done, we did the same for the events that we extracted for the FIPS country code."
   ]
  },
  {
   "cell_type": "code",
   "execution_count": null,
   "metadata": {
    "collapsed": true
   },
   "outputs": [],
   "source": [
    "fips_grouped = load_both_actor_datasets(actor1_file = 'Actor1FIPSCountryCode_grouping.csv',\n",
    "                                        actor2_file = 'Actor2FIPSCountryCode_grouping.csv',\n",
    "                                        index_col = ['ActorGeo_CountryCode', 'EventRootCode'])\n",
    "merge_actor_columns(fips_grouped)\n",
    "fips_grouped.head()"
   ]
  },
  {
   "cell_type": "markdown",
   "metadata": {},
   "source": [
    "We can see that the number of the events we extraced with FIPS codes is not huge, but we still felt that it would provide more accurate results then just analyzing the events extracted only by the CAMEO codes of the observed countries.\n",
    "\n",
    "Now, we were ready to unify the events we obtained by extracting events by CAMEO codes, as well as those we extracted by FIPS codes. To get this, we needed to create a matching between CAMEO and FIPS codes of a specific country. Luckily, we had that in mind and we created our initial dataframe in such a way that we can obtain a correct matching by observing the first FIPS or CAMEO code related to that border change, for example:\n",
    "* Armenia CAMEO: ARM|arm, Armenia FIPS: AM|UR01; created matching: AM->ARM."
   ]
  },
  {
   "cell_type": "code",
   "execution_count": null,
   "metadata": {
    "collapsed": true
   },
   "outputs": [],
   "source": [
    "def get_main_cameo(row, observed_column):\n",
    "    #if a code in the observed row exists\n",
    "    if pd.notnull(row[observed_column]):\n",
    "        #get the first code\n",
    "        return row[observed_column].split('|')[0]\n",
    "    else:\n",
    "        return None"
   ]
  },
  {
   "cell_type": "code",
   "execution_count": null,
   "metadata": {
    "collapsed": true
   },
   "outputs": [],
   "source": [
    "#create new columns with the main CAMEO and FIPS codes of new and parent countries\n",
    "observed_countries['Main CAMEO new'] = observed_countries.apply(lambda row: get_main_cameo(row, observed_column = 'CAMEO new'),axis=1)\n",
    "observed_countries['Main CAMEO old'] = observed_countries.apply(lambda row: get_main_cameo(row, observed_column = 'CAMEO old'),axis=1)\n",
    "observed_countries['Main FIPS new'] = observed_countries.apply(lambda row: get_main_cameo(row, observed_column = 'FIPS new'),axis=1)\n",
    "observed_countries['Main FIPS old'] = observed_countries.apply(lambda row: get_main_cameo(row, observed_column = 'FIPS old'),axis=1)"
   ]
  },
  {
   "cell_type": "markdown",
   "metadata": {},
   "source": [
    "When we obtained the main CAMEO and FIPS codes we had created a dataframe contained only from those columns."
   ]
  },
  {
   "cell_type": "code",
   "execution_count": null,
   "metadata": {
    "collapsed": true
   },
   "outputs": [],
   "source": [
    "#create a list of code pairings, firstly creating a list of new codes,\n",
    "#and then append parent country pairings, by dropping duplicates,\n",
    "#as same pairs can occur in this list (more countries have a same parent)\n",
    "main_codes = observed_countries[['Main CAMEO new', 'Main FIPS new']]\\\n",
    "             .rename(columns = {'Main CAMEO new': 'Main CAMEO', 'Main FIPS new': 'Main FIPS'})\\\n",
    "             .append(observed_countries[['Main CAMEO old', 'Main FIPS old']].drop_duplicates()\\\n",
    "                     .rename(columns = {'Main CAMEO old': 'Main CAMEO', 'Main FIPS old': 'Main FIPS'}), ignore_index = True)\n",
    "main_codes.dropna(inplace = True)"
   ]
  },
  {
   "cell_type": "markdown",
   "metadata": {},
   "source": [
    "We still had some issues that we had to solve manually, as Serbia is both a new country (created from Serbia and Montenegro), and a parent (of Kosovo). Also, Palestine is refered with fips codes *GZ* and *WE*."
   ]
  },
  {
   "cell_type": "code",
   "execution_count": null,
   "metadata": {
    "collapsed": true
   },
   "outputs": [],
   "source": [
    "main_codes = pd.concat([main_codes, pd.DataFrame({'Main CAMEO': ['SRB', 'PSE'], 'Main FIPS': ['RB', 'WE']}, index = [80, 81])])"
   ]
  },
  {
   "cell_type": "markdown",
   "metadata": {},
   "source": [
    "Now we can change the FIPS event code to its corresponding CAMEO one with the function *change_fips_to_cameo()*."
   ]
  },
  {
   "cell_type": "code",
   "execution_count": null,
   "metadata": {
    "collapsed": true
   },
   "outputs": [],
   "source": [
    "def change_fips_to_cameo(row, code_mapping):\n",
    "    #if both codes are present in the current row, replace its FIPS country code to the CAMEO country code\n",
    "    if (row['ActorGeo_CountryCode'] is s for s in code_mapping['Main FIPS'].unique()):\n",
    "        if(len(code_mapping.loc[code_mapping['Main FIPS'] == row['ActorGeo_CountryCode']]['Main CAMEO'].values) > 0):\n",
    "            row['ActorGeo_CountryCode'] = code_mapping.loc[code_mapping['Main FIPS'] == row['ActorGeo_CountryCode']]['Main CAMEO'].values[0]\n",
    "    return row\n",
    "\n",
    "#we can't modify the index directly so we have to drop it\n",
    "fips_grouped.reset_index(inplace = True)\n",
    "#apply the function\n",
    "fips_grouped = fips_grouped.apply(lambda row: change_fips_to_cameo(row, main_codes), axis = 1)\n",
    "#rename the code column so that it corresponds to the CAMEO column name in the other DataFrame\n",
    "fips_grouped.rename(columns={'ActorGeo_CountryCode': 'ActorCountryCode'}, inplace = True)\n",
    "#return the index\n",
    "fips_grouped.set_index(['ActorCountryCode', 'EventRootCode'], inplace=True)\n",
    "#show the code index values\n",
    "fips_grouped.index.levels[0]"
   ]
  },
  {
   "cell_type": "markdown",
   "metadata": {},
   "source": [
    "We can see that we have successfully transformed all of the FIPS codes to their CAMEO counterparts."
   ]
  },
  {
   "cell_type": "markdown",
   "metadata": {},
   "source": [
    "Finally, having obtained the same codes across both DataFrames (and therefore the same indexes), we can merge the two in a single DataFrame."
   ]
  },
  {
   "cell_type": "markdown",
   "metadata": {},
   "source": [
    "merged_countries = pd.merge(cameo_grouped, fips_grouped, left_index=True, right_index=True, how='outer')\n",
    "merge_actor_columns(merged_countries)\n",
    "merged_countries.isnull().values.any()"
   ]
  },
  {
   "cell_type": "markdown",
   "metadata": {},
   "source": [
    "Having no null values means that we have completely and successfully created a single DataFrame, on which we can perform further analysis."
   ]
  },
  {
   "cell_type": "code",
   "execution_count": null,
   "metadata": {
    "collapsed": true
   },
   "outputs": [],
   "source": [
    "#save the copy of a DataFrame for later\n",
    "merged_countries_original = merged_countries.copy()"
   ]
  },
  {
   "cell_type": "code",
   "execution_count": null,
   "metadata": {
    "collapsed": true
   },
   "outputs": [],
   "source": []
  },
  {
   "cell_type": "code",
   "execution_count": null,
   "metadata": {
    "collapsed": true
   },
   "outputs": [],
   "source": []
  }
 ],
 "metadata": {
  "kernelspec": {
   "display_name": "Python 3",
   "language": "python",
   "name": "python3"
  },
  "language_info": {
   "codemirror_mode": {
    "name": "ipython",
    "version": 3
   },
   "file_extension": ".py",
   "mimetype": "text/x-python",
   "name": "python",
   "nbconvert_exporter": "python",
   "pygments_lexer": "ipython3",
   "version": "3.6.3"
  }
 },
 "nbformat": 4,
 "nbformat_minor": 2
}
